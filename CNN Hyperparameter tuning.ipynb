{
 "cells": [
  {
   "cell_type": "code",
   "execution_count": 20,
   "id": "ac5231f1",
   "metadata": {},
   "outputs": [],
   "source": [
    "import tensorflow as tf\n",
    "from tensorflow import keras\n",
    "import pandas as pd\n",
    "import numpy as np\n",
    "import matplotlib.pyplot as plt\n",
    "from PIL import Image\n",
    "import PIL\n",
    "from tensorflow.keras import datasets, layers, models\n",
    "from keras.layers import BatchNormalization, Conv2D, MaxPooling2D,Activation, Flatten, Dropout, Dense\n",
    "from keras_tuner import HyperModel, HyperParameters, RandomSearch\n",
    "import keras_tuner as kt\n",
    "from keras.callbacks import ModelCheckpoint"
   ]
  },
  {
   "cell_type": "code",
   "execution_count": 2,
   "id": "cb48fa1d",
   "metadata": {},
   "outputs": [],
   "source": [
    "from PIL import Image\n",
    "import os"
   ]
  },
  {
   "cell_type": "markdown",
   "id": "d52b1b7e",
   "metadata": {},
   "source": [
    "# create data generators"
   ]
  },
  {
   "cell_type": "code",
   "execution_count": 3,
   "id": "57295dba",
   "metadata": {},
   "outputs": [],
   "source": [
    "target_size = (96,96)"
   ]
  },
  {
   "cell_type": "code",
   "execution_count": 25,
   "id": "c8008f13",
   "metadata": {},
   "outputs": [],
   "source": [
    "batch_size = 128"
   ]
  },
  {
   "cell_type": "code",
   "execution_count": 26,
   "id": "76ae44f6",
   "metadata": {},
   "outputs": [],
   "source": [
    "train_datagen = tf.keras.preprocessing.image.ImageDataGenerator(\n",
    "    rescale=1./255,\n",
    "    shear_range = .3,\n",
    "    zoom_range = .3,\n",
    "    horizontal_flip=True,\n",
    "    brightness_range = [.4,1.5],\n",
    "    rotation_range = 30,\n",
    "    width_shift_range=0.15,\n",
    "    height_shift_range=0.15\n",
    "    #featurewise_std_normalization=False # not sure how this will work here\n",
    ")"
   ]
  },
  {
   "cell_type": "code",
   "execution_count": 27,
   "id": "2329cd9e",
   "metadata": {},
   "outputs": [
    {
     "name": "stdout",
     "output_type": "stream",
     "text": [
      "Found 32938 images belonging to 151 classes.\n"
     ]
    }
   ],
   "source": [
    "train_generator = train_datagen.flow_from_directory(\n",
    "        r'C:/Users/natha/OneDrive/Desktop/datascience/machine learning and predictive/final/dataset/output/train',\n",
    "        target_size=target_size,\n",
    "        batch_size=batch_size,\n",
    "        class_mode='categorical')"
   ]
  },
  {
   "cell_type": "code",
   "execution_count": 28,
   "id": "266bf38d",
   "metadata": {},
   "outputs": [],
   "source": [
    "test_datagen = tf.keras.preprocessing.image.ImageDataGenerator(\n",
    "    rescale=1./255\n",
    ")"
   ]
  },
  {
   "cell_type": "code",
   "execution_count": 29,
   "id": "14c404fb",
   "metadata": {},
   "outputs": [
    {
     "name": "stdout",
     "output_type": "stream",
     "text": [
      "Found 8314 images belonging to 151 classes.\n"
     ]
    }
   ],
   "source": [
    "test_data_generator = test_datagen.flow_from_directory(\n",
    "    r'C:/Users/natha/OneDrive/Desktop/datascience/machine learning and predictive/final/dataset/output/val',\n",
    "    target_size=target_size,\n",
    "    batch_size=batch_size,\n",
    "    class_mode='categorical',\n",
    "    shuffle=False\n",
    ")"
   ]
  },
  {
   "cell_type": "markdown",
   "id": "30e61b4c",
   "metadata": {},
   "source": [
    "# tune hyper parameters"
   ]
  },
  {
   "cell_type": "code",
   "execution_count": 9,
   "id": "d93ec0ae",
   "metadata": {},
   "outputs": [],
   "source": [
    "#,validation_data = test_data_generator"
   ]
  },
  {
   "cell_type": "code",
   "execution_count": 10,
   "id": "b50d1de3",
   "metadata": {},
   "outputs": [],
   "source": [
    "class MyHyperModel(HyperModel):\n",
    "    def __init__(self, input_shape, num_classes):\n",
    "        self.input_shape = input_shape\n",
    "        self.num_classes = num_classes\n",
    "\n",
    "    def build(self, hp):\n",
    "\n",
    "        # Define the hyperparameter search space for Conv2D\n",
    "        padding = hp.Choice('padding', values = ['same', 'valid'])\n",
    "        kernel_initializer = hp.Choice('kernel_initializer', values = ['glorot_normal', 'he_normal'])\n",
    "        # Add the Conv2D layer with tunable hyperparameters\n",
    "        \n",
    "        model = keras.Sequential()\n",
    "        model.add(Conv2D(32, 3, padding = padding, activation = 'relu', input_shape =(96, 96, 3), kernel_initializer = kernel_initializer))\n",
    "        model.add(BatchNormalization(axis = -1))\n",
    "        model.add(MaxPooling2D((2, 2)))\n",
    "        model.add(Dropout(0.25))\n",
    "\n",
    "        model.add(Conv2D(64, 3, padding = padding, kernel_initializer = kernel_initializer, activation = 'relu'))\n",
    "        model.add(BatchNormalization(axis = -1))\n",
    "        model.add(Conv2D(64, 3, padding = padding, kernel_initializer = kernel_initializer, activation = 'relu'))\n",
    "        model.add(BatchNormalization(axis = -1))\n",
    "        model.add(MaxPooling2D((2, 2)))\n",
    "        model.add(Dropout(0.25))\n",
    "\n",
    "        model.add(Conv2D(128, 3, padding = padding, kernel_initializer = kernel_initializer, activation = 'relu'))\n",
    "        model.add(BatchNormalization(axis = -1))\n",
    "        model.add(Conv2D(128, 3, padding = padding, kernel_initializer = kernel_initializer, activation = 'relu'))\n",
    "        model.add(BatchNormalization(axis = -1))\n",
    "        model.add(MaxPooling2D((2, 2)))\n",
    "        model.add(Dropout(0.25))\n",
    "\n",
    "        model.add(Conv2D(256, 3, padding = padding, kernel_initializer = kernel_initializer, activation = 'relu'))\n",
    "        model.add(BatchNormalization(axis = -1))\n",
    "        model.add(Conv2D(256, 3, padding = padding, kernel_initializer = kernel_initializer, activation = 'relu'))\n",
    "        model.add(BatchNormalization(axis = -1))\n",
    "        model.add(MaxPooling2D((2, 2)))\n",
    "        model.add(Dropout(0.25))\n",
    "\n",
    "        model.add(Flatten())\n",
    "        model.add(Dense(512, activation = 'relu'))\n",
    "        model.add(BatchNormalization())\n",
    "        model.add(Dropout(0.5))\n",
    "        model.add(Dense(256, activation = 'relu'))\n",
    "        model.add(BatchNormalization())\n",
    "        model.add(Dropout(0.5))\n",
    "        model.add(Dense(151, activation = 'softmax'))\n",
    "\n",
    "        \n",
    "        model.compile(\n",
    "            optimizer=keras.optimizers.Adam(hp.Choice('learning_rate', values=[1e-2,.001])),\n",
    "            loss='categorical_crossentropy',\n",
    "            metrics=['accuracy']\n",
    "        )\n",
    "        \n",
    "        return model\n",
    "\n"
   ]
  },
  {
   "cell_type": "code",
   "execution_count": 11,
   "id": "263ecc27",
   "metadata": {},
   "outputs": [],
   "source": [
    "# Specify the input shape and number of classes\n",
    "input_shape = (96, 96, 3)\n",
    "num_classes = 151\n",
    "\n",
    "# Create an instance of the custom HyperModel\n",
    "hypermodel = MyHyperModel(input_shape, num_classes)\n",
    "\n",
    "# Create a HyperParameters object\n",
    "#hyperparameters = HyperParameters()\n",
    "\n",
    "# Define the search space for filters and kernel_size\n",
    "#hyperparameters.Int('filters', min_value=64, max_value=128, step=32)\n",
    "#hyperparameters.Choice('kernel_size', values=[3, 5])\n",
    "#hyperparameters.Choice('pool_size', values=[2, 3])\n"
   ]
  },
  {
   "cell_type": "code",
   "execution_count": 12,
   "id": "60a0eb8a",
   "metadata": {},
   "outputs": [],
   "source": [
    "# Create a RandomSearch tuner with the hypermodel and hyperparameters\n",
    "tuner = RandomSearch(\n",
    "    hypermodel,\n",
    "    objective='val_accuracy',\n",
    "    max_trials=8,\n",
    "    #hyperparameters=hyperparameters,\n",
    "    directory='my_directory_advanced',  # Specify a directory to store the tuner results\n",
    "    project_name='my_project'  # Specify a project name for the tuner\n",
    ")\n",
    "\n"
   ]
  },
  {
   "cell_type": "code",
   "execution_count": 14,
   "id": "0dd1e57f",
   "metadata": {},
   "outputs": [
    {
     "name": "stdout",
     "output_type": "stream",
     "text": [
      "Trial 8 Complete [00h 17m 18s]\n",
      "val_accuracy: 0.007216742727905512\n",
      "\n",
      "Best val_accuracy So Far: 0.010343997739255428\n",
      "Total elapsed time: 02h 23m 07s\n",
      "INFO:tensorflow:Oracle triggered exit\n"
     ]
    }
   ],
   "source": [
    "# Perform the hyperparameter search\n",
    "tuner.search(train_generator, epochs=4,steps_per_epoch = 16, validation_data=(test_data_generator))\n",
    "\n"
   ]
  },
  {
   "cell_type": "code",
   "execution_count": 15,
   "id": "ec63ec59",
   "metadata": {},
   "outputs": [],
   "source": [
    "# Retrieve the best model\n",
    "best_model = tuner.get_best_models(num_models=1)[0]"
   ]
  },
  {
   "cell_type": "code",
   "execution_count": 16,
   "id": "888a8ee3",
   "metadata": {},
   "outputs": [],
   "source": [
    "best_hyperparameters = tuner.get_best_hyperparameters(1)[0]"
   ]
  },
  {
   "cell_type": "code",
   "execution_count": 17,
   "id": "e180cc9a",
   "metadata": {},
   "outputs": [
    {
     "name": "stdout",
     "output_type": "stream",
     "text": [
      "same\n",
      "he_normal\n",
      "0.01\n"
     ]
    }
   ],
   "source": [
    "print(best_hyperparameters.get('padding'))\n",
    "print(best_hyperparameters.get('kernel_initializer'))\n",
    "print(best_hyperparameters.get('learning_rate'))"
   ]
  },
  {
   "cell_type": "code",
   "execution_count": 18,
   "id": "160ea7f8",
   "metadata": {
    "scrolled": true
   },
   "outputs": [
    {
     "name": "stdout",
     "output_type": "stream",
     "text": [
      "Model: \"sequential\"\n",
      "_________________________________________________________________\n",
      " Layer (type)                Output Shape              Param #   \n",
      "=================================================================\n",
      " conv2d (Conv2D)             (None, 224, 224, 32)      896       \n",
      "                                                                 \n",
      " batch_normalization (BatchN  (None, 224, 224, 32)     128       \n",
      " ormalization)                                                   \n",
      "                                                                 \n",
      " max_pooling2d (MaxPooling2D  (None, 112, 112, 32)     0         \n",
      " )                                                               \n",
      "                                                                 \n",
      " dropout (Dropout)           (None, 112, 112, 32)      0         \n",
      "                                                                 \n",
      " conv2d_1 (Conv2D)           (None, 112, 112, 64)      18496     \n",
      "                                                                 \n",
      " batch_normalization_1 (Batc  (None, 112, 112, 64)     256       \n",
      " hNormalization)                                                 \n",
      "                                                                 \n",
      " conv2d_2 (Conv2D)           (None, 112, 112, 64)      36928     \n",
      "                                                                 \n",
      " batch_normalization_2 (Batc  (None, 112, 112, 64)     256       \n",
      " hNormalization)                                                 \n",
      "                                                                 \n",
      " max_pooling2d_1 (MaxPooling  (None, 56, 56, 64)       0         \n",
      " 2D)                                                             \n",
      "                                                                 \n",
      " dropout_1 (Dropout)         (None, 56, 56, 64)        0         \n",
      "                                                                 \n",
      " conv2d_3 (Conv2D)           (None, 56, 56, 128)       73856     \n",
      "                                                                 \n",
      " batch_normalization_3 (Batc  (None, 56, 56, 128)      512       \n",
      " hNormalization)                                                 \n",
      "                                                                 \n",
      " conv2d_4 (Conv2D)           (None, 56, 56, 128)       147584    \n",
      "                                                                 \n",
      " batch_normalization_4 (Batc  (None, 56, 56, 128)      512       \n",
      " hNormalization)                                                 \n",
      "                                                                 \n",
      " max_pooling2d_2 (MaxPooling  (None, 28, 28, 128)      0         \n",
      " 2D)                                                             \n",
      "                                                                 \n",
      " dropout_2 (Dropout)         (None, 28, 28, 128)       0         \n",
      "                                                                 \n",
      " conv2d_5 (Conv2D)           (None, 28, 28, 256)       295168    \n",
      "                                                                 \n",
      " batch_normalization_5 (Batc  (None, 28, 28, 256)      1024      \n",
      " hNormalization)                                                 \n",
      "                                                                 \n",
      " conv2d_6 (Conv2D)           (None, 28, 28, 256)       590080    \n",
      "                                                                 \n",
      " batch_normalization_6 (Batc  (None, 28, 28, 256)      1024      \n",
      " hNormalization)                                                 \n",
      "                                                                 \n",
      " max_pooling2d_3 (MaxPooling  (None, 14, 14, 256)      0         \n",
      " 2D)                                                             \n",
      "                                                                 \n",
      " dropout_3 (Dropout)         (None, 14, 14, 256)       0         \n",
      "                                                                 \n",
      " flatten (Flatten)           (None, 50176)             0         \n",
      "                                                                 \n",
      " dense (Dense)               (None, 512)               25690624  \n",
      "                                                                 \n",
      " batch_normalization_7 (Batc  (None, 512)              2048      \n",
      " hNormalization)                                                 \n",
      "                                                                 \n",
      " dropout_4 (Dropout)         (None, 512)               0         \n",
      "                                                                 \n",
      " dense_1 (Dense)             (None, 256)               131328    \n",
      "                                                                 \n",
      " batch_normalization_8 (Batc  (None, 256)              1024      \n",
      " hNormalization)                                                 \n",
      "                                                                 \n",
      " dropout_5 (Dropout)         (None, 256)               0         \n",
      "                                                                 \n",
      " dense_2 (Dense)             (None, 151)               38807     \n",
      "                                                                 \n",
      "=================================================================\n",
      "Total params: 27,030,551\n",
      "Trainable params: 27,027,159\n",
      "Non-trainable params: 3,392\n",
      "_________________________________________________________________\n"
     ]
    }
   ],
   "source": [
    "best_model.summary()"
   ]
  },
  {
   "cell_type": "code",
   "execution_count": null,
   "id": "3108b926",
   "metadata": {},
   "outputs": [],
   "source": []
  }
 ],
 "metadata": {
  "kernelspec": {
   "display_name": "Python 3 (ipykernel)",
   "language": "python",
   "name": "python3"
  },
  "language_info": {
   "codemirror_mode": {
    "name": "ipython",
    "version": 3
   },
   "file_extension": ".py",
   "mimetype": "text/x-python",
   "name": "python",
   "nbconvert_exporter": "python",
   "pygments_lexer": "ipython3",
   "version": "3.9.16"
  }
 },
 "nbformat": 4,
 "nbformat_minor": 5
}
