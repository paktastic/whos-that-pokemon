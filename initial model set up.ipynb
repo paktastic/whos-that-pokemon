{
 "cells": [
  {
   "cell_type": "code",
   "execution_count": 1,
   "id": "ac5231f1",
   "metadata": {},
   "outputs": [],
   "source": [
    "import tensorflow as tf\n",
    "from tensorflow import keras\n",
    "import pandas as pd\n",
    "import numpy as np\n",
    "import matplotlib.pyplot as plt\n",
    "from PIL import Image\n",
    "import PIL\n",
    "from tensorflow.keras import datasets, layers, models\n",
    "from keras_tuner import HyperModel, HyperParameters, RandomSearch\n",
    "import keras_tuner as kt"
   ]
  },
  {
   "cell_type": "code",
   "execution_count": 2,
   "id": "cb48fa1d",
   "metadata": {},
   "outputs": [],
   "source": [
    "from PIL import Image\n",
    "import os"
   ]
  },
  {
   "cell_type": "markdown",
   "id": "d52b1b7e",
   "metadata": {},
   "source": [
    "# create data generators"
   ]
  },
  {
   "cell_type": "code",
   "execution_count": 3,
   "id": "57295dba",
   "metadata": {},
   "outputs": [],
   "source": [
    "target_size = (120,120)"
   ]
  },
  {
   "cell_type": "code",
   "execution_count": 4,
   "id": "c8008f13",
   "metadata": {},
   "outputs": [],
   "source": [
    "batch_size = 128"
   ]
  },
  {
   "cell_type": "code",
   "execution_count": 5,
   "id": "76ae44f6",
   "metadata": {},
   "outputs": [],
   "source": [
    "train_datagen = tf.keras.preprocessing.image.ImageDataGenerator(\n",
    "    rescale=1./255,\n",
    "    shear_range = .3,\n",
    "    zoom_range = .3,\n",
    "    horizontal_flip=True,\n",
    "    brightness_range = [.4,1.5],\n",
    "    rotation_range = 30,\n",
    "    width_shift_range=0.15,\n",
    "    height_shift_range=0.15\n",
    "    #featurewise_std_normalization=False # not sure how this will work here\n",
    ")"
   ]
  },
  {
   "cell_type": "code",
   "execution_count": 6,
   "id": "2329cd9e",
   "metadata": {},
   "outputs": [
    {
     "name": "stdout",
     "output_type": "stream",
     "text": [
      "Found 32938 images belonging to 151 classes.\n"
     ]
    }
   ],
   "source": [
    "train_generator = train_datagen.flow_from_directory(\n",
    "        r'C:/Users/natha/OneDrive/Desktop/datascience/machine learning and predictive/final/dataset/output/train',\n",
    "        target_size=target_size,\n",
    "        batch_size=batch_size,\n",
    "        class_mode='categorical')"
   ]
  },
  {
   "cell_type": "code",
   "execution_count": 7,
   "id": "266bf38d",
   "metadata": {},
   "outputs": [],
   "source": [
    "test_datagen = tf.keras.preprocessing.image.ImageDataGenerator(\n",
    "    rescale=1./255\n",
    ")"
   ]
  },
  {
   "cell_type": "code",
   "execution_count": 8,
   "id": "14c404fb",
   "metadata": {},
   "outputs": [
    {
     "name": "stdout",
     "output_type": "stream",
     "text": [
      "Found 8314 images belonging to 151 classes.\n"
     ]
    }
   ],
   "source": [
    "test_data_generator = test_datagen.flow_from_directory(\n",
    "    r'C:/Users/natha/OneDrive/Desktop/datascience/machine learning and predictive/final/dataset/output/test',\n",
    "    target_size=target_size,\n",
    "    batch_size=batch_size,\n",
    "    class_mode='categorical',\n",
    "    shuffle=False\n",
    ")"
   ]
  },
  {
   "cell_type": "markdown",
   "id": "30e61b4c",
   "metadata": {},
   "source": [
    "# tune hyper parameters"
   ]
  },
  {
   "cell_type": "code",
   "execution_count": 9,
   "id": "d93ec0ae",
   "metadata": {},
   "outputs": [],
   "source": [
    "#,validation_data = test_data_generator"
   ]
  },
  {
   "cell_type": "code",
   "execution_count": 10,
   "id": "b50d1de3",
   "metadata": {},
   "outputs": [],
   "source": [
    "class MyHyperModel(HyperModel):\n",
    "    def __init__(self, input_shape, num_classes):\n",
    "        self.input_shape = input_shape\n",
    "        self.num_classes = num_classes\n",
    "\n",
    "    def build(self, hp):\n",
    "        model = keras.Sequential()\n",
    "\n",
    "        # Define the hyperparameter search space for Conv2D\n",
    "        filters = hp.Int('filters', min_value=32, max_value=224, step=32)\n",
    "        #filters2 = hp.Int('filters2', min_value=32, max_value=224, step=32)\n",
    "        kernel_size = hp.Choice('kernel_size', values=[3, 5])\n",
    "        pool_size = hp.Choice('pool_size', values=[2, 3])\n",
    "        \n",
    "        # Add the Conv2D layer with tunable hyperparameters\n",
    "        model.add(layers.Conv2D(filters=filters, kernel_size=kernel_size, activation='relu', input_shape=self.input_shape))\n",
    "        model.add(layers.MaxPooling2D(pool_size=pool_size))\n",
    "        \n",
    "        #model.add(layers.Conv2D(filters=filters2, kernel_size=[5,5], activation='relu', input_shape=self.input_shape))\n",
    "        #model.add(layers.MaxPooling2D(pool_size=(2,2)))\n",
    "        \n",
    "        model.add(layers.Dropout(.5))\n",
    "        model.add(layers.Flatten())\n",
    "        model.add(layers.Dense(units=hp.Int('units', min_value=320, max_value=512, step=64), activation='relu'))\n",
    "        model.add(layers.Dense(self.num_classes, activation='softmax'))\n",
    "        model.compile(\n",
    "            optimizer=keras.optimizers.Adam(hp.Choice('learning_rate', values=[1e-2,.001])),\n",
    "            loss='categorical_crossentropy',\n",
    "            metrics=['accuracy']\n",
    "        )\n",
    "        \n",
    "        return model\n",
    "\n"
   ]
  },
  {
   "cell_type": "code",
   "execution_count": 11,
   "id": "263ecc27",
   "metadata": {},
   "outputs": [],
   "source": [
    "# Specify the input shape and number of classes\n",
    "input_shape = (120, 120, 3)\n",
    "num_classes = 151\n",
    "\n",
    "# Create an instance of the custom HyperModel\n",
    "hypermodel = MyHyperModel(input_shape, num_classes)\n",
    "\n",
    "# Create a HyperParameters object\n",
    "#hyperparameters = HyperParameters()\n",
    "\n",
    "# Define the search space for filters and kernel_size\n",
    "#hyperparameters.Int('filters', min_value=64, max_value=128, step=32)\n",
    "#hyperparameters.Choice('kernel_size', values=[3, 5])\n",
    "#hyperparameters.Choice('pool_size', values=[2, 3])\n"
   ]
  },
  {
   "cell_type": "code",
   "execution_count": 12,
   "id": "60a0eb8a",
   "metadata": {},
   "outputs": [],
   "source": [
    "# Create a RandomSearch tuner with the hypermodel and hyperparameters\n",
    "tuner = RandomSearch(\n",
    "    hypermodel,\n",
    "    objective='val_accuracy',\n",
    "    max_trials=14,\n",
    "    #hyperparameters=hyperparameters,\n",
    "    directory='my_directory3',  # Specify a directory to store the tuner results\n",
    "    project_name='my_project'  # Specify a project name for the tuner\n",
    ")\n",
    "\n"
   ]
  },
  {
   "cell_type": "code",
   "execution_count": 13,
   "id": "0dd1e57f",
   "metadata": {},
   "outputs": [
    {
     "name": "stdout",
     "output_type": "stream",
     "text": [
      "Trial 14 Complete [00h 11m 26s]\n",
      "val_accuracy: 0.00998316053301096\n",
      "\n",
      "Best val_accuracy So Far: 0.018883811309933662\n",
      "Total elapsed time: 02h 13m 58s\n",
      "INFO:tensorflow:Oracle triggered exit\n"
     ]
    }
   ],
   "source": [
    "# Perform the hyperparameter search\n",
    "tuner.search(train_generator, epochs=3,steps_per_epoch = 16, validation_data=(test_data_generator))\n",
    "\n"
   ]
  },
  {
   "cell_type": "code",
   "execution_count": 14,
   "id": "ec63ec59",
   "metadata": {},
   "outputs": [],
   "source": [
    "# Retrieve the best model\n",
    "best_model = tuner.get_best_models(num_models=1)[0]"
   ]
  },
  {
   "cell_type": "code",
   "execution_count": 15,
   "id": "888a8ee3",
   "metadata": {},
   "outputs": [],
   "source": [
    "best_hyperparameters = tuner.get_best_hyperparameters(1)[0]"
   ]
  },
  {
   "cell_type": "code",
   "execution_count": 17,
   "id": "e180cc9a",
   "metadata": {},
   "outputs": [
    {
     "name": "stdout",
     "output_type": "stream",
     "text": [
      "32\n",
      "3\n",
      "5\n",
      "384\n",
      "0.001\n"
     ]
    }
   ],
   "source": [
    "print(best_hyperparameters.get('filters'))\n",
    "\n",
    "print(best_hyperparameters.get('pool_size'))\n",
    "print(best_hyperparameters.get('kernel_size'))\n",
    "\n",
    "print(best_hyperparameters.get('units'))\n",
    "print(best_hyperparameters.get('learning_rate'))"
   ]
  },
  {
   "cell_type": "code",
   "execution_count": null,
   "id": "160ea7f8",
   "metadata": {
    "scrolled": true
   },
   "outputs": [],
   "source": [
    "best_model.summary()"
   ]
  },
  {
   "cell_type": "markdown",
   "id": "42e63580",
   "metadata": {},
   "source": [
    "# run actual model"
   ]
  },
  {
   "cell_type": "code",
   "execution_count": 95,
   "id": "780dd584",
   "metadata": {},
   "outputs": [],
   "source": [
    "classifier = keras.Sequential()\n",
    "\n",
    "# Add the Conv2D layer with tunable hyperparameters\n",
    "classifier.add(layers.Conv2D(filters=64, kernel_size=[5,5], activation='relu', input_shape=(64,64,3)))\n",
    "classifier.add(layers.MaxPooling2D(pool_size=(3,3)))\n",
    "\n",
    "#classifier.add(layers.Conv2D(filters=224, kernel_size=[5,5], activation='relu'))\n",
    "#classifier.add(layers.MaxPooling2D(pool_size=(2,2)))\n",
    "\n",
    "classifier.add(layers.Dropout(.5))\n",
    "classifier.add(layers.Flatten())\n",
    "classifier.add(layers.Dense(512, activation='relu'))\n",
    "classifier.add(layers.Dense(151, activation='softmax'))\n"
   ]
  },
  {
   "cell_type": "code",
   "execution_count": 96,
   "id": "e9ba5bf4",
   "metadata": {},
   "outputs": [],
   "source": [
    "classifier.compile(\n",
    "    optimizer=keras.optimizers.Adam(learning_rate=.001),\n",
    "    loss='categorical_crossentropy',\n",
    "    metrics=['accuracy']\n",
    ")"
   ]
  },
  {
   "cell_type": "code",
   "execution_count": 97,
   "id": "7136db0f",
   "metadata": {},
   "outputs": [
    {
     "name": "stdout",
     "output_type": "stream",
     "text": [
      "Model: \"sequential_7\"\n",
      "_________________________________________________________________\n",
      " Layer (type)                Output Shape              Param #   \n",
      "=================================================================\n",
      " conv2d_13 (Conv2D)          (None, 60, 60, 64)        4864      \n",
      "                                                                 \n",
      " max_pooling2d_13 (MaxPoolin  (None, 20, 20, 64)       0         \n",
      " g2D)                                                            \n",
      "                                                                 \n",
      " dropout_7 (Dropout)         (None, 20, 20, 64)        0         \n",
      "                                                                 \n",
      " flatten_7 (Flatten)         (None, 25600)             0         \n",
      "                                                                 \n",
      " dense_14 (Dense)            (None, 512)               13107712  \n",
      "                                                                 \n",
      " dense_15 (Dense)            (None, 151)               77463     \n",
      "                                                                 \n",
      "=================================================================\n",
      "Total params: 13,190,039\n",
      "Trainable params: 13,190,039\n",
      "Non-trainable params: 0\n",
      "_________________________________________________________________\n"
     ]
    }
   ],
   "source": [
    "classifier.summary()"
   ]
  },
  {
   "cell_type": "code",
   "execution_count": 108,
   "id": "3cd5bacd",
   "metadata": {},
   "outputs": [
    {
     "name": "stdout",
     "output_type": "stream",
     "text": [
      "258/258 [==============================] - 527s 2s/step - loss: 2.7438 - accuracy: 0.3661\n"
     ]
    }
   ],
   "source": [
    "history = classifier.fit(train_generator,epochs=1,random_state = 42)"
   ]
  },
  {
   "cell_type": "code",
   "execution_count": 99,
   "id": "4e6783b4",
   "metadata": {},
   "outputs": [],
   "source": [
    "hisorydf = pd.DataFrame(history.history)"
   ]
  },
  {
   "cell_type": "code",
   "execution_count": 100,
   "id": "cf33b98c",
   "metadata": {},
   "outputs": [
    {
     "data": {
      "text/html": [
       "<div>\n",
       "<style scoped>\n",
       "    .dataframe tbody tr th:only-of-type {\n",
       "        vertical-align: middle;\n",
       "    }\n",
       "\n",
       "    .dataframe tbody tr th {\n",
       "        vertical-align: top;\n",
       "    }\n",
       "\n",
       "    .dataframe thead th {\n",
       "        text-align: right;\n",
       "    }\n",
       "</style>\n",
       "<table border=\"1\" class=\"dataframe\">\n",
       "  <thead>\n",
       "    <tr style=\"text-align: right;\">\n",
       "      <th></th>\n",
       "      <th>loss</th>\n",
       "      <th>accuracy</th>\n",
       "    </tr>\n",
       "  </thead>\n",
       "  <tbody>\n",
       "    <tr>\n",
       "      <th>0</th>\n",
       "      <td>4.309054</td>\n",
       "      <td>0.093600</td>\n",
       "    </tr>\n",
       "    <tr>\n",
       "      <th>1</th>\n",
       "      <td>3.551414</td>\n",
       "      <td>0.215344</td>\n",
       "    </tr>\n",
       "    <tr>\n",
       "      <th>2</th>\n",
       "      <td>3.184457</td>\n",
       "      <td>0.276550</td>\n",
       "    </tr>\n",
       "  </tbody>\n",
       "</table>\n",
       "</div>"
      ],
      "text/plain": [
       "       loss  accuracy\n",
       "0  4.309054  0.093600\n",
       "1  3.551414  0.215344\n",
       "2  3.184457  0.276550"
      ]
     },
     "execution_count": 100,
     "metadata": {},
     "output_type": "execute_result"
    }
   ],
   "source": [
    "hisorydf"
   ]
  },
  {
   "cell_type": "code",
   "execution_count": null,
   "id": "73ad69d3",
   "metadata": {},
   "outputs": [],
   "source": [
    "import matplotlib.pyplot as plt"
   ]
  },
  {
   "cell_type": "code",
   "execution_count": 84,
   "id": "349019a0",
   "metadata": {},
   "outputs": [
    {
     "ename": "KeyError",
     "evalue": "'val_accuracy'",
     "output_type": "error",
     "traceback": [
      "\u001b[1;31m---------------------------------------------------------------------------\u001b[0m",
      "\u001b[1;31mKeyError\u001b[0m                                  Traceback (most recent call last)",
      "Cell \u001b[1;32mIn[84], line 2\u001b[0m\n\u001b[0;32m      1\u001b[0m plt\u001b[38;5;241m.\u001b[39mplot(history\u001b[38;5;241m.\u001b[39mhistory[\u001b[38;5;124m'\u001b[39m\u001b[38;5;124maccuracy\u001b[39m\u001b[38;5;124m'\u001b[39m])\n\u001b[1;32m----> 2\u001b[0m plt\u001b[38;5;241m.\u001b[39mplot(\u001b[43mhistory\u001b[49m\u001b[38;5;241;43m.\u001b[39;49m\u001b[43mhistory\u001b[49m\u001b[43m[\u001b[49m\u001b[38;5;124;43m'\u001b[39;49m\u001b[38;5;124;43mval_accuracy\u001b[39;49m\u001b[38;5;124;43m'\u001b[39;49m\u001b[43m]\u001b[49m)\n\u001b[0;32m      3\u001b[0m plt\u001b[38;5;241m.\u001b[39mtitle(\u001b[38;5;124m'\u001b[39m\u001b[38;5;124mmodel accuracy\u001b[39m\u001b[38;5;124m'\u001b[39m)\n\u001b[0;32m      4\u001b[0m plt\u001b[38;5;241m.\u001b[39mylabel(\u001b[38;5;124m'\u001b[39m\u001b[38;5;124maccuracy\u001b[39m\u001b[38;5;124m'\u001b[39m)\n",
      "\u001b[1;31mKeyError\u001b[0m: 'val_accuracy'"
     ]
    },
    {
     "data": {
      "image/png": "[encoded data removed]",
      "text/plain": [
       "<Figure size 640x480 with 1 Axes>"
      ]
     },
     "metadata": {},
     "output_type": "display_data"
    }
   ],
   "source": [
    "plt.plot(history.history['accuracy'])\n",
    "plt.plot(history.history['val_accuracy'])\n",
    "plt.title('model accuracy')\n",
    "plt.ylabel('accuracy')\n",
    "plt.xlabel('epoch')\n",
    "plt.legend(['train', 'val'], loc='upper left')\n",
    "plt.show()"
   ]
  },
  {
   "cell_type": "code",
   "execution_count": 109,
   "id": "242d7755",
   "metadata": {},
   "outputs": [],
   "source": [
    "import h5py"
   ]
  },
  {
   "cell_type": "code",
   "execution_count": 110,
   "id": "ff20b3c4",
   "metadata": {},
   "outputs": [
    {
     "name": "stdout",
     "output_type": "stream",
     "text": [
      "Saved model\n"
     ]
    }
   ],
   "source": [
    "from keras.models import load_model, save_model\n",
    "classifier.save('my_model.h5')\n",
    "print(\"Saved model\")"
   ]
  },
  {
   "cell_type": "code",
   "execution_count": 118,
   "id": "9814c7b9",
   "metadata": {},
   "outputs": [
    {
     "name": "stdout",
     "output_type": "stream",
     "text": [
      "1/1 [==============================] - 0s 20ms/step\n"
     ]
    }
   ],
   "source": [
    "from tensorflow.keras.utils import load_img, img_to_array\n",
    "from keras.applications.vgg16 import preprocess_input\n",
    "\n",
    "#load the image\n",
    "my_image = load_img('whothatpokemon/pikachu.png', target_size=target_size)\n",
    "\n",
    "#preprocess the image\n",
    "my_image = img_to_array(my_image)\n",
    "my_image = my_image.reshape((1, my_image.shape[0], my_image.shape[1], my_image.shape[2]))\n",
    "my_image = preprocess_input(my_image)\n",
    "\n",
    "#make the prediction\n",
    "prediction = classifier.predict(my_image)"
   ]
  },
  {
   "cell_type": "code",
   "execution_count": 119,
   "id": "9d328943",
   "metadata": {},
   "outputs": [],
   "source": [
    "class_labels = []\n",
    "for i in os.listdir('output/train'):\n",
    "    class_labels.append(i)"
   ]
  },
  {
   "cell_type": "code",
   "execution_count": 120,
   "id": "5a78acd9",
   "metadata": {},
   "outputs": [
    {
     "data": {
      "text/plain": [
       "['Abra',\n",
       " 'Aerodactyl',\n",
       " 'Alakazam',\n",
       " 'Arbok',\n",
       " 'Arcanine',\n",
       " 'Articuno',\n",
       " 'Beedrill',\n",
       " 'Bellsprout',\n",
       " 'Blastoise',\n",
       " 'Bulbasaur',\n",
       " 'Butterfree',\n",
       " 'Caterpie',\n",
       " 'Chansey',\n",
       " 'Charizard',\n",
       " 'Charmander',\n",
       " 'Charmeleon',\n",
       " 'Clefable',\n",
       " 'Clefairy',\n",
       " 'Cloyster',\n",
       " 'Cubone',\n",
       " 'Dewgong',\n",
       " 'Diglett',\n",
       " 'Ditto',\n",
       " 'Dodrio',\n",
       " 'Doduo',\n",
       " 'Dragonair',\n",
       " 'Dragonite',\n",
       " 'Dratini',\n",
       " 'Drowzee',\n",
       " 'Dugtrio',\n",
       " 'Eevee',\n",
       " 'Ekans',\n",
       " 'Electabuzz',\n",
       " 'Electrode',\n",
       " 'Exeggcute',\n",
       " 'Exeggutor',\n",
       " 'Farfetchd',\n",
       " 'Fearow',\n",
       " 'Flareon',\n",
       " 'Gastly',\n",
       " 'Gengar',\n",
       " 'Geodude',\n",
       " 'Gloom',\n",
       " 'Golbat',\n",
       " 'Goldeen',\n",
       " 'Golduck',\n",
       " 'Golem',\n",
       " 'Graveler',\n",
       " 'Grimer',\n",
       " 'Growlithe',\n",
       " 'Gyarados',\n",
       " 'Haunter',\n",
       " 'Hitmonchan',\n",
       " 'Hitmonlee',\n",
       " 'Horsea',\n",
       " 'Hypno',\n",
       " 'Ivysaur',\n",
       " 'Jigglypuff',\n",
       " 'Jolteon',\n",
       " 'Jynx',\n",
       " 'Kabuto',\n",
       " 'Kabutops',\n",
       " 'Kadabra',\n",
       " 'Kakuna',\n",
       " 'Kangaskhan',\n",
       " 'Kingler',\n",
       " 'Koffing',\n",
       " 'Krabby',\n",
       " 'Lapras',\n",
       " 'Lickitung',\n",
       " 'Machamp',\n",
       " 'Machoke',\n",
       " 'Machop',\n",
       " 'Magikarp',\n",
       " 'Magmar',\n",
       " 'Magnemite',\n",
       " 'Magneton',\n",
       " 'Mankey',\n",
       " 'Marowak',\n",
       " 'Meowth',\n",
       " 'Metapod',\n",
       " 'Mew',\n",
       " 'Mewtwo',\n",
       " 'Moltres',\n",
       " 'MrMime',\n",
       " 'Muk',\n",
       " 'Nidoking',\n",
       " 'Nidoqueen',\n",
       " 'NidoranF',\n",
       " 'NidoranM',\n",
       " 'Nidorina',\n",
       " 'Nidorino',\n",
       " 'Ninetales',\n",
       " 'Oddish',\n",
       " 'Omanyte',\n",
       " 'Omastar',\n",
       " 'Onix',\n",
       " 'Paras',\n",
       " 'Parasect',\n",
       " 'Persian',\n",
       " 'Pidgeot',\n",
       " 'Pidgeotto',\n",
       " 'Pidgey',\n",
       " 'Pikachu',\n",
       " 'Pinsir',\n",
       " 'Poliwag',\n",
       " 'Poliwhirl',\n",
       " 'Poliwrath',\n",
       " 'Ponyta',\n",
       " 'Porygon',\n",
       " 'Primeape',\n",
       " 'Psyduck',\n",
       " 'Raichu',\n",
       " 'Rapidash',\n",
       " 'Raticate',\n",
       " 'Rattata',\n",
       " 'Rhydon',\n",
       " 'Rhyhorn',\n",
       " 'Sandshrew',\n",
       " 'Sandslash',\n",
       " 'Scyther',\n",
       " 'Seadra',\n",
       " 'Seaking',\n",
       " 'Seel',\n",
       " 'Shellder',\n",
       " 'Slowbro',\n",
       " 'Slowpoke',\n",
       " 'Snorlax',\n",
       " 'Spearow',\n",
       " 'Squirtle',\n",
       " 'Starmie',\n",
       " 'Staryu',\n",
       " 'Tangela',\n",
       " 'Tauros',\n",
       " 'Tentacool',\n",
       " 'Tentacruel',\n",
       " 'Vaporeon',\n",
       " 'Venomoth',\n",
       " 'Venonat',\n",
       " 'Venusaur',\n",
       " 'Victreebel',\n",
       " 'Vileplume',\n",
       " 'Voltorb',\n",
       " 'Vulpix',\n",
       " 'Wartortle',\n",
       " 'Weedle',\n",
       " 'Weepinbell',\n",
       " 'Weezing',\n",
       " 'Wigglytuff',\n",
       " 'Zapdos',\n",
       " 'Zubat']"
      ]
     },
     "execution_count": 120,
     "metadata": {},
     "output_type": "execute_result"
    }
   ],
   "source": [
    "class_labels "
   ]
  },
  {
   "cell_type": "code",
   "execution_count": 121,
   "id": "16f5c31c",
   "metadata": {},
   "outputs": [
    {
     "name": "stdout",
     "output_type": "stream",
     "text": [
      "The predicted class is: Butterfree\n"
     ]
    }
   ],
   "source": [
    "predicted_class_index = np.argmax(prediction)\n",
    "predicted_class_label = class_labels[predicted_class_index]\n",
    "\n",
    "print(f\"The predicted class is: {predicted_class_label}\")"
   ]
  },
  {
   "cell_type": "code",
   "execution_count": null,
   "id": "583f0983",
   "metadata": {},
   "outputs": [],
   "source": []
  }
 ],
 "metadata": {
  "kernelspec": {
   "display_name": "Python 3 (ipykernel)",
   "language": "python",
   "name": "python3"
  },
  "language_info": {
   "codemirror_mode": {
    "name": "ipython",
    "version": 3
   },
   "file_extension": ".py",
   "mimetype": "text/x-python",
   "name": "python",
   "nbconvert_exporter": "python",
   "pygments_lexer": "ipython3",
   "version": "3.9.16"
  }
 },
 "nbformat": 4,
 "nbformat_minor": 5
}
