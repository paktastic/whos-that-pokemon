{
 "cells": [
  {
   "cell_type": "code",
   "execution_count": 1,
   "id": "ac5231f1",
   "metadata": {},
   "outputs": [],
   "source": [
    "import tensorflow as tf\n",
    "from tensorflow import keras\n",
    "import pandas as pd\n",
    "import numpy as np\n",
    "import matplotlib.pyplot as plt\n",
    "from PIL import Image\n",
    "import PIL\n",
    "from tensorflow.keras import datasets, layers, models\n",
    "from keras.layers import BatchNormalization, Conv2D, MaxPooling2D,Activation, Flatten, Dropout, Dense\n",
    "from keras_tuner import HyperModel, HyperParameters, RandomSearch\n",
    "import keras_tuner as kt\n",
    "from keras.callbacks import ModelCheckpoint\n",
    "from keras.callbacks import ModelCheckpoint"
   ]
  },
  {
   "cell_type": "code",
   "execution_count": 2,
   "id": "cb48fa1d",
   "metadata": {},
   "outputs": [],
   "source": [
    "from PIL import Image\n",
    "import os"
   ]
  },
  {
   "cell_type": "markdown",
   "id": "d52b1b7e",
   "metadata": {},
   "source": [
    "# create data generators"
   ]
  },
  {
   "cell_type": "code",
   "execution_count": 3,
   "id": "57295dba",
   "metadata": {},
   "outputs": [],
   "source": [
    "target_size = (96,96)"
   ]
  },
  {
   "cell_type": "code",
   "execution_count": 4,
   "id": "c8008f13",
   "metadata": {},
   "outputs": [],
   "source": [
    "batch_size = 128"
   ]
  },
  {
   "cell_type": "code",
   "execution_count": 5,
   "id": "76ae44f6",
   "metadata": {},
   "outputs": [],
   "source": [
    "train_datagen = tf.keras.preprocessing.image.ImageDataGenerator(\n",
    "    rescale=1./255,\n",
    "    shear_range = .3,\n",
    "    zoom_range = .3,\n",
    "    horizontal_flip=True,\n",
    "    brightness_range = [.4,1.5],\n",
    "    rotation_range = 30,\n",
    "    width_shift_range=0.15,\n",
    "    height_shift_range=0.15\n",
    "    #featurewise_std_normalization=False # not sure how this will work here\n",
    ")"
   ]
  },
  {
   "cell_type": "code",
   "execution_count": 6,
   "id": "2329cd9e",
   "metadata": {},
   "outputs": [
    {
     "name": "stdout",
     "output_type": "stream",
     "text": [
      "Found 32938 images belonging to 151 classes.\n"
     ]
    }
   ],
   "source": [
    "train_generator = train_datagen.flow_from_directory(\n",
    "        r'C:/Users/natha/OneDrive/Desktop/datascience/machine learning and predictive/final/dataset/output/train',\n",
    "        target_size=target_size,\n",
    "        batch_size=batch_size,\n",
    "        class_mode='categorical')"
   ]
  },
  {
   "cell_type": "code",
   "execution_count": 7,
   "id": "266bf38d",
   "metadata": {},
   "outputs": [],
   "source": [
    "test_datagen = tf.keras.preprocessing.image.ImageDataGenerator(\n",
    "    rescale=1./255\n",
    ")"
   ]
  },
  {
   "cell_type": "code",
   "execution_count": 8,
   "id": "14c404fb",
   "metadata": {},
   "outputs": [
    {
     "name": "stdout",
     "output_type": "stream",
     "text": [
      "Found 8314 images belonging to 151 classes.\n"
     ]
    }
   ],
   "source": [
    "test_data_generator = test_datagen.flow_from_directory(\n",
    "    r'C:/Users/natha/OneDrive/Desktop/datascience/machine learning and predictive/final/dataset/output/val',\n",
    "    target_size=target_size,\n",
    "    batch_size=batch_size,\n",
    "    class_mode='categorical',\n",
    "    shuffle=False\n",
    ")"
   ]
  },
  {
   "cell_type": "markdown",
   "id": "30e61b4c",
   "metadata": {},
   "source": [
    "# tune hyper parameters"
   ]
  },
  {
   "cell_type": "code",
   "execution_count": 9,
   "id": "d93ec0ae",
   "metadata": {},
   "outputs": [],
   "source": [
    "#,validation_data = test_data_generator"
   ]
  },
  {
   "cell_type": "code",
   "execution_count": 20,
   "id": "869f3eca",
   "metadata": {},
   "outputs": [],
   "source": [
    "model = keras.Sequential()\n",
    "model.add(Conv2D(32, 3, padding = 'same', activation = 'relu', input_shape =(96, 96, 3), kernel_initializer = 'he_normal'))\n",
    "model.add(BatchNormalization(axis = -1))\n",
    "model.add(MaxPooling2D((2, 2)))\n",
    "model.add(Dropout(0.25))\n",
    "model.add(Conv2D(64, 3, padding = 'same', kernel_initializer = 'he_normal', activation = 'relu'))\n",
    "model.add(BatchNormalization(axis = -1))\n",
    "model.add(Conv2D(64, 3, padding = 'same', kernel_initializer = 'he_normal', activation = 'relu'))\n",
    "model.add(BatchNormalization(axis = -1))\n",
    "model.add(MaxPooling2D((2, 2)))\n",
    "model.add(Dropout(0.25))\n",
    "model.add(Conv2D(128, 3, padding = 'same', kernel_initializer = 'he_normal', activation = 'relu'))\n",
    "model.add(BatchNormalization(axis = -1))\n",
    "model.add(Conv2D(128, 3, padding = 'same', kernel_initializer = 'he_normal', activation = 'relu'))\n",
    "model.add(BatchNormalization(axis = -1))\n",
    "model.add(MaxPooling2D((2, 2)))\n",
    "model.add(Dropout(0.25))\n",
    "model.add(Conv2D(256, 3, padding = 'same', kernel_initializer = 'he_normal', activation = 'relu'))\n",
    "model.add(BatchNormalization(axis = -1))\n",
    "model.add(Conv2D(256, 3, padding = 'same', kernel_initializer = 'he_normal', activation = 'relu'))\n",
    "model.add(BatchNormalization(axis = -1))\n",
    "model.add(MaxPooling2D((2, 2)))\n",
    "model.add(Dropout(0.25))\n",
    "model.add(Flatten())\n",
    "model.add(Dense(512, activation = 'relu'))\n",
    "model.add(BatchNormalization())\n",
    "model.add(Dropout(0.5))\n",
    "model.add(Dense(256, activation = 'relu'))\n",
    "model.add(BatchNormalization())\n",
    "model.add(Dropout(0.5))\n",
    "model.add(Dense(151, activation = 'softmax'))"
   ]
  },
  {
   "cell_type": "code",
   "execution_count": 21,
   "id": "b0492949",
   "metadata": {},
   "outputs": [],
   "source": [
    "model.compile(\n",
    "    optimizer=keras.optimizers.Adam(learning_rate = 1e-2),\n",
    "    loss='categorical_crossentropy',\n",
    "    metrics=['accuracy']\n",
    ")\n"
   ]
  },
  {
   "cell_type": "code",
   "execution_count": 22,
   "id": "160ea7f8",
   "metadata": {
    "scrolled": true
   },
   "outputs": [
    {
     "name": "stdout",
     "output_type": "stream",
     "text": [
      "Model: \"sequential_1\"\n",
      "_________________________________________________________________\n",
      " Layer (type)                Output Shape              Param #   \n",
      "=================================================================\n",
      " conv2d_7 (Conv2D)           (None, 96, 96, 32)        896       \n",
      "                                                                 \n",
      " batch_normalization_9 (Batc  (None, 96, 96, 32)       128       \n",
      " hNormalization)                                                 \n",
      "                                                                 \n",
      " max_pooling2d_4 (MaxPooling  (None, 48, 48, 32)       0         \n",
      " 2D)                                                             \n",
      "                                                                 \n",
      " dropout_6 (Dropout)         (None, 48, 48, 32)        0         \n",
      "                                                                 \n",
      " conv2d_8 (Conv2D)           (None, 48, 48, 64)        18496     \n",
      "                                                                 \n",
      " batch_normalization_10 (Bat  (None, 48, 48, 64)       256       \n",
      " chNormalization)                                                \n",
      "                                                                 \n",
      " conv2d_9 (Conv2D)           (None, 48, 48, 64)        36928     \n",
      "                                                                 \n",
      " batch_normalization_11 (Bat  (None, 48, 48, 64)       256       \n",
      " chNormalization)                                                \n",
      "                                                                 \n",
      " max_pooling2d_5 (MaxPooling  (None, 24, 24, 64)       0         \n",
      " 2D)                                                             \n",
      "                                                                 \n",
      " dropout_7 (Dropout)         (None, 24, 24, 64)        0         \n",
      "                                                                 \n",
      " conv2d_10 (Conv2D)          (None, 24, 24, 128)       73856     \n",
      "                                                                 \n",
      " batch_normalization_12 (Bat  (None, 24, 24, 128)      512       \n",
      " chNormalization)                                                \n",
      "                                                                 \n",
      " conv2d_11 (Conv2D)          (None, 24, 24, 128)       147584    \n",
      "                                                                 \n",
      " batch_normalization_13 (Bat  (None, 24, 24, 128)      512       \n",
      " chNormalization)                                                \n",
      "                                                                 \n",
      " max_pooling2d_6 (MaxPooling  (None, 12, 12, 128)      0         \n",
      " 2D)                                                             \n",
      "                                                                 \n",
      " dropout_8 (Dropout)         (None, 12, 12, 128)       0         \n",
      "                                                                 \n",
      " conv2d_12 (Conv2D)          (None, 12, 12, 256)       295168    \n",
      "                                                                 \n",
      " batch_normalization_14 (Bat  (None, 12, 12, 256)      1024      \n",
      " chNormalization)                                                \n",
      "                                                                 \n",
      " conv2d_13 (Conv2D)          (None, 12, 12, 256)       590080    \n",
      "                                                                 \n",
      " batch_normalization_15 (Bat  (None, 12, 12, 256)      1024      \n",
      " chNormalization)                                                \n",
      "                                                                 \n",
      " max_pooling2d_7 (MaxPooling  (None, 6, 6, 256)        0         \n",
      " 2D)                                                             \n",
      "                                                                 \n",
      " dropout_9 (Dropout)         (None, 6, 6, 256)         0         \n",
      "                                                                 \n",
      " flatten_1 (Flatten)         (None, 9216)              0         \n",
      "                                                                 \n",
      " dense_3 (Dense)             (None, 512)               4719104   \n",
      "                                                                 \n",
      " batch_normalization_16 (Bat  (None, 512)              2048      \n",
      " chNormalization)                                                \n",
      "                                                                 \n",
      " dropout_10 (Dropout)        (None, 512)               0         \n",
      "                                                                 \n",
      " dense_4 (Dense)             (None, 256)               131328    \n",
      "                                                                 \n",
      " batch_normalization_17 (Bat  (None, 256)              1024      \n",
      " chNormalization)                                                \n",
      "                                                                 \n",
      " dropout_11 (Dropout)        (None, 256)               0         \n",
      "                                                                 \n",
      " dense_5 (Dense)             (None, 151)               38807     \n",
      "                                                                 \n",
      "=================================================================\n",
      "Total params: 6,059,031\n",
      "Trainable params: 6,055,639\n",
      "Non-trainable params: 3,392\n",
      "_________________________________________________________________\n"
     ]
    }
   ],
   "source": [
    "model.summary()"
   ]
  },
  {
   "cell_type": "code",
   "execution_count": 9,
   "id": "1981ed02",
   "metadata": {},
   "outputs": [],
   "source": [
    "checkpoint = ModelCheckpoint('advanced96/best_model.h5', verbose = 1, monitor = 'val_accuracy', save_best_only = True)"
   ]
  },
  {
   "cell_type": "code",
   "execution_count": 10,
   "id": "c0e3c1d8",
   "metadata": {},
   "outputs": [],
   "source": [
    "model = keras.models.load_model('advanced96/model_advanced96.h5')"
   ]
  },
  {
   "cell_type": "code",
   "execution_count": null,
   "id": "ff10f6d7",
   "metadata": {},
   "outputs": [],
   "source": []
  },
  {
   "cell_type": "code",
   "execution_count": null,
   "id": "583f0983",
   "metadata": {},
   "outputs": [
    {
     "name": "stdout",
     "output_type": "stream",
     "text": [
      "Epoch 1/30\n",
      "258/258 [==============================] - ETA: 0s - loss: 1.9416 - accuracy: 0.5039\n",
      "Epoch 1: val_accuracy improved from 0.53777 to 0.56351, saving model to advanced96\\best_model.h5\n",
      "258/258 [==============================] - 1124s 4s/step - loss: 1.9416 - accuracy: 0.5039 - val_loss: 1.7432 - val_accuracy: 0.5635\n",
      "Epoch 2/30\n",
      "258/258 [==============================] - ETA: 0s - loss: 1.9142 - accuracy: 0.5118\n",
      "Epoch 2: val_accuracy improved from 0.56351 to 0.56856, saving model to advanced96\\best_model.h5\n",
      "258/258 [==============================] - 1133s 4s/step - loss: 1.9142 - accuracy: 0.5118 - val_loss: 1.7370 - val_accuracy: 0.5686\n",
      "Epoch 3/30\n",
      "258/258 [==============================] - ETA: 0s - loss: 1.8746 - accuracy: 0.5180\n",
      "Epoch 3: val_accuracy did not improve from 0.56856\n",
      "258/258 [==============================] - 1094s 4s/step - loss: 1.8746 - accuracy: 0.5180 - val_loss: 1.9380 - val_accuracy: 0.5244\n",
      "Epoch 4/30\n",
      "258/258 [==============================] - ETA: 0s - loss: 1.8673 - accuracy: 0.5194\n",
      "Epoch 4: val_accuracy improved from 0.56856 to 0.58720, saving model to advanced96\\best_model.h5\n",
      "258/258 [==============================] - 1127s 4s/step - loss: 1.8673 - accuracy: 0.5194 - val_loss: 1.6459 - val_accuracy: 0.5872\n",
      "Epoch 5/30\n",
      "258/258 [==============================] - ETA: 0s - loss: 1.8353 - accuracy: 0.5303\n",
      "Epoch 5: val_accuracy improved from 0.58720 to 0.58901, saving model to advanced96\\best_model.h5\n",
      "258/258 [==============================] - 1120s 4s/step - loss: 1.8353 - accuracy: 0.5303 - val_loss: 1.6184 - val_accuracy: 0.5890\n",
      "Epoch 6/30\n",
      "258/258 [==============================] - ETA: 0s - loss: 1.8036 - accuracy: 0.5315\n",
      "Epoch 6: val_accuracy improved from 0.58901 to 0.59141, saving model to advanced96\\best_model.h5\n",
      "258/258 [==============================] - 1127s 4s/step - loss: 1.8036 - accuracy: 0.5315 - val_loss: 1.6051 - val_accuracy: 0.5914\n",
      "Epoch 7/30\n",
      " 49/258 [====>.........................] - ETA: 12:00 - loss: 1.7617 - accuracy: 0.5472"
     ]
    }
   ],
   "source": [
    "history = model.fit(train_generator, epochs = 30, validation_data = test_data_generator,\n",
    "                              callbacks = [checkpoint])"
   ]
  },
  {
   "cell_type": "code",
   "execution_count": null,
   "id": "9ad5b160",
   "metadata": {},
   "outputs": [],
   "source": [
    "# Plot learning curves\n",
    "fig = plt.figure(figsize = (17, 4))\n",
    "    \n",
    "plt.subplot(121)\n",
    "plt.plot(history.history['accuracy'], label = 'acc')\n",
    "plt.plot(history.history['val_accuracy'], label = 'val_acc')\n",
    "plt.legend()\n",
    "plt.grid()\n",
    "plt.title(f'accuracy')\n",
    "\n",
    "plt.subplot(122)\n",
    "plt.plot(history.history['loss'], label = 'loss')\n",
    "plt.plot(history.history['val_loss'], label = 'val_loss')\n",
    "plt.legend()\n",
    "plt.grid()\n",
    "plt.title(f'loss')"
   ]
  },
  {
   "cell_type": "code",
   "execution_count": null,
   "id": "4dbe0e79",
   "metadata": {},
   "outputs": [],
   "source": [
    "hisorydf = pd.DataFrame(history.history)\n",
    "hisorydf.to_csv('advanced96/my_model_advanced96_60.csv')"
   ]
  },
  {
   "cell_type": "code",
   "execution_count": null,
   "id": "e7747d70",
   "metadata": {},
   "outputs": [],
   "source": []
  },
  {
   "cell_type": "code",
   "execution_count": null,
   "id": "a685fdd2",
   "metadata": {},
   "outputs": [],
   "source": [
    "model.save('advanced96/model_advanced96.h5')"
   ]
  },
  {
   "cell_type": "code",
   "execution_count": null,
   "id": "3813f68e",
   "metadata": {},
   "outputs": [],
   "source": [
    "from tensorflow.keras.utils import load_img, img_to_array\n",
    "from keras.applications.vgg16 import preprocess_input\n",
    "\n",
    "#load the image\n",
    "my_image = load_img('whothatpokemon/pikachu.png', target_size=target_size)\n",
    "\n",
    "#preprocess the image\n",
    "my_image = img_to_array(my_image)\n",
    "my_image = my_image.reshape((1, my_image.shape[0], my_image.shape[1], my_image.shape[2]))\n",
    "my_image = preprocess_input(my_image)\n",
    "\n",
    "#make the prediction\n",
    "prediction = model.predict(my_image)"
   ]
  },
  {
   "cell_type": "code",
   "execution_count": null,
   "id": "d861bde6",
   "metadata": {},
   "outputs": [],
   "source": [
    "class_labels = []\n",
    "for i in os.listdir('output/train'):\n",
    "    class_labels.append(i)"
   ]
  },
  {
   "cell_type": "code",
   "execution_count": null,
   "id": "b84bb12f",
   "metadata": {},
   "outputs": [],
   "source": [
    "predicted_class_index = np.argmax(prediction)\n",
    "predicted_class_label = f'Predicted: {class_labels[predicted_class_index]} {round(prediction[0][predicted_class_index] * 100, 2)}%'\n",
    "\n",
    "print(f\"The predicted class is: {predicted_class_label}\")"
   ]
  },
  {
   "cell_type": "code",
   "execution_count": null,
   "id": "ef804a2d",
   "metadata": {},
   "outputs": [],
   "source": []
  }
 ],
 "metadata": {
  "kernelspec": {
   "display_name": "Python 3 (ipykernel)",
   "language": "python",
   "name": "python3"
  },
  "language_info": {
   "codemirror_mode": {
    "name": "ipython",
    "version": 3
   },
   "file_extension": ".py",
   "mimetype": "text/x-python",
   "name": "python",
   "nbconvert_exporter": "python",
   "pygments_lexer": "ipython3",
   "version": "3.9.16"
  }
 },
 "nbformat": 4,
 "nbformat_minor": 5
}
